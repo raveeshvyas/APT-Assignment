{
 "cells": [
  {
   "cell_type": "markdown",
   "id": "4e696986",
   "metadata": {},
   "source": [
    "# 📊 Analysis: Column Mapping Justification"
   ]
  },
  {
   "cell_type": "markdown",
   "id": "f39822bf",
   "metadata": {},
   "source": [
    "This notebook explores the statistical and structural relationships between the columns to justify the inferred mapping."
   ]
  },
  {
   "cell_type": "code",
   "execution_count": null,
   "id": "e11bf76e",
   "metadata": {},
   "outputs": [],
   "source": [
    "import pandas as pd\n",
    "import matplotlib.pyplot as plt\n",
    "import seaborn as sns\n",
    "\n",
    "# Load data\n",
    "df = pd.read_csv(\"sample_data_with_fabricated_columns.csv\")\n",
    "df.describe()"
   ]
  },
  {
   "cell_type": "markdown",
   "id": "6e182b0a",
   "metadata": {},
   "source": [
    "## A Self-Defined Custom Sliding Window DP Algorithm"
   ]
  },
  {
   "cell_type": "markdown",
   "id": "ad7a5b19",
   "metadata": {},
   "source": [
    "### Working of the DP Algorithm\n",
    "\n",
    "1. **Find candidates**\n",
    "   - Figures out which columns could be Open or Close:\n",
    "`oc_candidates = all columns MINUS known High, Low, Price and Volume.`\n",
    "\n",
    "2. **Define all possible (Open, Close) pairs**\n",
    "\n",
    "3. **Run a dynamic programming loop**\n",
    "\n",
    "   - For each time step (row in the data):\n",
    "       - For each possible (Open, Close) pair:\n",
    "           - Compute the cost of transitioning from the previous pair to this one.\n",
    "           - Cost = difference between today’s Open and yesterday’s Close, plus an extra penalty if you switch mappings.\n",
    "   - Store the minimum cost path.\n",
    "\n",
    "4. **Backtrack**\n",
    "   - After the forward pass, backtrace to get the optimal sequence of states (mappings).\n",
    "\n",
    "5. **Find the most frequent mapping**\n",
    "   - The most common (Open, Close) pair along the optimal path is assumed to be the real mapping."
   ]
  }
 ],
 "metadata": {
  "language_info": {
   "name": "python"
  }
 },
 "nbformat": 4,
 "nbformat_minor": 5
}
