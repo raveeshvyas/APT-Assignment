{
 "cells": [
  {
   "cell_type": "code",
   "execution_count": 8,
   "id": "d1ee3f19",
   "metadata": {},
   "outputs": [],
   "source": [
    "import pandas as pd\n",
    "\n",
    "df = pd.read_csv(\"04_final_output.csv\")\n",
    "df[\"timestamp\"] = pd.to_datetime(df[\"timestamp\"], format=\"ISO8601\")\n",
    "threshold = pd.Timedelta(milliseconds=4)\n",
    "\n",
    "last_occ = {}\n",
    "dup_analysis = {} # i -> SYM, OCC, TS, Price_low, Price_high, TimeDiff\n",
    "\n",
    "for i, (sym, time, price) in enumerate(zip(df[\"symbol\"], df[\"timestamp\"], df[\"price\"])):\n",
    "    if sym not in last_occ:\n",
    "        pass\n",
    "    else:\n",
    "        if abs(time - df[\"timestamp\"][last_occ[sym]]) <= threshold:\n",
    "            if last_occ[sym] in dup_analysis:\n",
    "                dup_analysis[last_occ[sym]][1] += 1\n",
    "                if (time != dup_analysis[last_occ[sym]][2]):\n",
    "                    dup_analysis[last_occ[sym]][5] = False\n",
    "\n",
    "                if price > dup_analysis[last_occ[sym]][4]:\n",
    "                    dup_analysis[last_occ[sym]][4] = price\n",
    "\n",
    "                if price < dup_analysis[last_occ[sym]][3]:\n",
    "                    dup_analysis[last_occ[sym]][3] = price\n",
    "\n",
    "            else:\n",
    "                dup_analysis[i] = [sym, 2, df[\"timestamp\"][last_occ[sym]], min(price, df[\"price\"][last_occ[sym]]), max(price, df[\"price\"][last_occ[sym]]), time == df[\"timestamp\"][last_occ[sym]]]\n",
    "\n",
    "    last_occ[sym] = i\n",
    "\n",
    "\n",
    "lst=[]\n",
    "for key in dup_analysis:\n",
    "    lst.append(dup_analysis[key])\n",
    "\n",
    "analysis_df = pd.DataFrame(lst, columns=[\"Symbol\", \"Occurrences\", \"Timestamp\", \"Price_low\", \"Price_high\", \"TimeDiff\"])\n",
    "analysis_df.to_csv(\"duplication_analysis.csv\", index=False)\n"
   ]
  }
 ],
 "metadata": {
  "kernelspec": {
   "display_name": "Python 3",
   "language": "python",
   "name": "python3"
  },
  "language_info": {
   "codemirror_mode": {
    "name": "ipython",
    "version": 3
   },
   "file_extension": ".py",
   "mimetype": "text/x-python",
   "name": "python",
   "nbconvert_exporter": "python",
   "pygments_lexer": "ipython3",
   "version": "3.10.12"
  }
 },
 "nbformat": 4,
 "nbformat_minor": 5
}
